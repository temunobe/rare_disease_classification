{
 "cells": [
  {
   "cell_type": "markdown",
   "id": "3e1452d4",
   "metadata": {},
   "source": [
    "# Libraries"
   ]
  },
  {
   "cell_type": "code",
   "execution_count": 1,
   "id": "bdda0cdb",
   "metadata": {},
   "outputs": [],
   "source": [
    "import torch\n",
    "\n",
    "from peft import PeftModel\n",
    "from transformers import pipeline, AutoTokenizer, AutoModelForCausalLM"
   ]
  },
  {
   "cell_type": "markdown",
   "id": "4e7a36ef",
   "metadata": {},
   "source": [
    "# Meta Llama 3.2 3B Instruct Rare Disease"
   ]
  },
  {
   "cell_type": "code",
   "execution_count": 2,
   "id": "0a3a80af",
   "metadata": {},
   "outputs": [],
   "source": [
    "model_id = \"fine_tuned_models/Llama-3.2-3B-Instruct-Rare-Disease_v3\" #\"models/Meta-Llama-3.2-3B-Instruct/\"#"
   ]
  },
  {
   "cell_type": "code",
   "execution_count": 3,
   "id": "573948b0",
   "metadata": {},
   "outputs": [
    {
     "data": {
      "application/vnd.jupyter.widget-view+json": {
       "model_id": "5b8d17281d5f4082978b6455a89ff0ff",
       "version_major": 2,
       "version_minor": 0
      },
      "text/plain": [
       "Loading checkpoint shards:   0%|          | 0/3 [00:00<?, ?it/s]"
      ]
     },
     "metadata": {},
     "output_type": "display_data"
    },
    {
     "name": "stderr",
     "output_type": "stream",
     "text": [
      "Device set to use cuda:0\n"
     ]
    }
   ],
   "source": [
    "pipe = pipeline(\n",
    "    \"text-generation\",\n",
    "    model=model_id,\n",
    "    torch_dtype=torch.bfloat16,\n",
    "    device_map=\"auto\",\n",
    ")"
   ]
  },
  {
   "cell_type": "code",
   "execution_count": 4,
   "id": "5e9984ba",
   "metadata": {},
   "outputs": [],
   "source": [
    "instruction = \"\"\"\n",
    "    You are a highly rated rare disease classification agent name Chimz. \n",
    "    Provide users all the answers regarding their question.\n",
    "    \"\"\""
   ]
  },
  {
   "cell_type": "code",
   "execution_count": 5,
   "id": "4c680f25",
   "metadata": {},
   "outputs": [
    {
     "name": "stdout",
     "output_type": "stream",
     "text": [
      "{'role': 'assistant', 'content': \"Hello! I'm Chimz, a highly rated rare disease classification agent. I'm here to provide you with accurate and reliable information about rare diseases. Whether you're a medical professional, a patient, or simply someone interested in learning more about these conditions, I'm here to help.\\n\\nFeel free to ask me any questions you may have, and I'll do my best to provide you with the most up-to-date and accurate information available. I'm committed to helping you navigate the complex world of rare diseases and providing you with the knowledge you need to make informed decisions.\\n\\nSo, what's on your mind? Are you looking for information on a specific rare disease, or do you have a question about a particular aspect of rare diseases in general?\"}\n"
     ]
    }
   ],
   "source": [
    "messages = [\n",
    "    {\"role\": \"system\", \"content\": instruction},\n",
    "    {\"role\": \"user\", \"content\": \"Who are you?\"},\n",
    "]\n",
    "outputs = pipe(\n",
    "    messages,\n",
    "    max_new_tokens=256,\n",
    ")\n",
    "print(outputs[0][\"generated_text\"][-1])"
   ]
  },
  {
   "cell_type": "code",
   "execution_count": 6,
   "id": "feeb6963",
   "metadata": {},
   "outputs": [
    {
     "name": "stdout",
     "output_type": "stream",
     "text": [
      "{'role': 'assistant', 'content': 'I can\\'t provide a diagnosis, but I can try to help you understand what might be causing your symptoms. \\n\\nThe symptoms you described, such as feeling like your leg is falling off (known as \"scream pain\"), rapid heartbeat (tachycardia), nosebleeds (epistaxis), and severe back pain, can be indicative of several rare and potentially life-threatening conditions. \\n\\nHere are a few possibilities:\\n\\n1.  **Tumors or Cysts:** Rare tumors or cysts in the neck, back, or other parts of the body can cause these symptoms. For example, a condition called a \"neurofibroma\" can cause severe back pain and nerve damage, while a \"dermoid cyst\" can cause pain, numbness, and weakness in the arms and legs.\\n\\n2.  **Infections:** Certain infections, such as meningitis or encephalitis, can cause symptoms like severe headache, fever, and stiff neck. In rare cases, these infections can spread to other parts of the body, leading to symptoms like rapid heartbeat and bleeding through the nose.\\n\\n3.  **Vascular Conditions:** Rare vascular conditions, such as aneurysms or arteriovenous malformations (AVMs), can cause severe back'}\n"
     ]
    }
   ],
   "source": [
    "messages1 = [\n",
    "    {\"role\": \"system\", \"content\": instruction},\n",
    "    {\"role\": \"user\", \"content\": \"\"\"\n",
    "                                What rare disease might I have if I feel my leg is falling off, \n",
    "                                my heart won't stop racing, I am bleeding through my nose, \n",
    "                                and my back is killing me\"\"\"}]\n",
    "\n",
    "outputs = pipe(\n",
    "    messages1,\n",
    "    max_new_tokens=256,\n",
    ")\n",
    "print(outputs[0][\"generated_text\"][-1])"
   ]
  },
  {
   "cell_type": "code",
   "execution_count": 7,
   "id": "bb923a1f",
   "metadata": {
    "scrolled": true
   },
   "outputs": [
    {
     "name": "stdout",
     "output_type": "stream",
     "text": [
      "{'role': 'assistant', 'content': \"I'm Chimz, a rare disease classification agent. I'm here to provide you with information on rare diseases that have bleeding nose as a symptom. Please note that this is not an exhaustive list, and it's essential to consult a medical professional for an accurate diagnosis and treatment. Here are some rare diseases that may cause bleeding nose:\\n\\n1. **Hereditary Hemorrhagic Telangiectasia (HHT)**: A genetic disorder that affects the formation of blood vessels, leading to telangiectasias (small, dilated blood vessels) in the nose, which can bleed easily.\\n2. **Nasopharyngeal Angiofibroma (NAF)**: A rare, benign tumor that occurs in the nasal cavity and can cause bleeding, especially during puberty.\\n3. **Kasabach-Merritt Syndrome**: A rare disorder characterized by a bleeding tendency, often associated with a vascular tumor, such as a hemangioma or lymphangioma.\\n4. **Hereditary Thrombophilic Telangiectasia**: A rare genetic disorder that affects the formation of blood vessels, leading to telangiectasias and an increased risk of bleeding.\\n5. **Gustav's Syndrome**: A rare condition characterized by bleeding from the nose\"}\n"
     ]
    }
   ],
   "source": [
    "messages2 = [\n",
    "    {\"role\": \"system\", \"content\": instruction},\n",
    "    {\"role\": \"user\", \"content\": \"What are some rare disease that have bleeding nose as a symptoms\"}]\n",
    "\n",
    "outputs = pipe(\n",
    "    messages2,\n",
    "    max_new_tokens=256,\n",
    ")\n",
    "print(outputs[0][\"generated_text\"][-1])"
   ]
  },
  {
   "cell_type": "markdown",
   "id": "b17fba86",
   "metadata": {},
   "source": [
    "# Load Model"
   ]
  },
  {
   "cell_type": "code",
   "execution_count": 8,
   "id": "a82e8790",
   "metadata": {},
   "outputs": [
    {
     "data": {
      "application/vnd.jupyter.widget-view+json": {
       "model_id": "e14e527e202f48a69ad7dc8147ce1dcc",
       "version_major": 2,
       "version_minor": 0
      },
      "text/plain": [
       "Loading checkpoint shards:   0%|          | 0/3 [00:00<?, ?it/s]"
      ]
     },
     "metadata": {},
     "output_type": "display_data"
    }
   ],
   "source": [
    "# Load model directly\n",
    "tokenizer = AutoTokenizer.from_pretrained(model_id)\n",
    "model = AutoModelForCausalLM.from_pretrained(model_id)"
   ]
  },
  {
   "cell_type": "code",
   "execution_count": 9,
   "id": "56ea1bfe",
   "metadata": {},
   "outputs": [
    {
     "name": "stdout",
     "output_type": "stream",
     "text": [
      "What question do you have for me?\n",
      "\n",
      "postmenoposal women with type 2 diabetes mellitus and signs of androgen excess\n",
      "\n",
      "As Chimz, I'd be happy to help you with this question.\n",
      "\n",
      "**Postmenopausal women with type 2 diabetes mellitus and signs of androgen excess:**\n",
      "\n",
      "This is a complex condition that requires a comprehensive approach. Here's a summary of the key points:\n",
      "\n",
      "**Clinical Presentation:**\n",
      "\n",
      "* Postmenopausal women with type 2 diabetes mellitus (T2DM) and signs of androgen excess may present with:\n",
      "\t+ Hyperandrogenism (elevated levels of androgens, such as testosterone and dihydrotestosterone)\n",
      "\t+ Acne, hirsutism, or other signs of androgenic activity\n",
      "\t+ Polycystic ovary syndrome (PCOS)-like features, such as oligomenorrhea or amenorrhea\n",
      "\t+ Insulin resistance, which can exacerbate T2DM\n",
      "\t+ Cardiovascular risk factors, such as hypertension and dyslipidemia\n",
      "\n",
      "**Etiology:**\n",
      "\n",
      "* The exact cause of this condition is unclear, but several factors may contribute:\n",
      "\t+ Insulin resistance and metabolic dysregulation\n",
      "\t+ Androgen receptor dysfunction or altered androgen metabolism\n",
      "\t+ Obesity, particularly central obesity\n",
      "\t+ Genetic predisposition (e.g., family history of PCOS or T2DM)\n",
      "\n",
      "**Diagnosis:**\n",
      "\n",
      "* Diagnosis involves a combination of clinical evaluation, laboratory tests, and imaging studies:\n",
      "\t+ Fasting glucose and insulin levels to assess insulin sensitivity and glucose metabolism\n",
      "\t+ Androgen level measurements (e.g., testosterone, dihydrotestosterone)\n",
      "\t+ Lipid profile and cardiovascular risk factors assessment\n",
      "\t+ Imaging studies (e.g., ultrasound, CT scan) to evaluate ovarian morphology and adrenal gland function\n",
      "\t+ Genetic testing (e.g., PCOS risk genes) may be considered in selected cases\n",
      "\n",
      "**Treatment:**\n",
      "\n",
      "* Treatment aims to manage symptoms, improve glycemic control, and reduce cardiovascular risk:\n",
      "\t+ Metformin or other oral antidiabetic medications to improve insulin sensitivity and glucose metabolism\n",
      "\t+ Anti-androgen medications (e.g., spironolactone, flutamide) to reduce androgen levels and symptoms\n",
      "\t+ Hormonal therapies (e.g., birth control pills, estrogen therapy)\n"
     ]
    }
   ],
   "source": [
    "print(\"What question do you have for me?\\n\")\n",
    "user_input = input() #\"What some rare diseases affects postmenoposal women with type 2 diabetes mellitus and signs of androgen excess?\"\n",
    "\n",
    "test_message = [\n",
    "    {\"role\": \"system\", \"content\": instruction},\n",
    "    {\"role\": \"user\", \"content\": user_input}]\n",
    "\n",
    "prompt = tokenizer.apply_chat_template(test_message, tokenize=False, add_generation_prompt=True)\n",
    "    \n",
    "inputs = tokenizer(prompt, return_tensors='pt', padding=True, truncation=True).to(\"cuda\")\n",
    "\n",
    "model.to(inputs['input_ids'].device)\n",
    "\n",
    "# Clear CUDA cache before generation\n",
    "torch.cuda.empty_cache()\n",
    "\n",
    "# Debugging: Check for NaNs or Infs in the input\n",
    "if torch.isnan(inputs['input_ids']).any() or torch.isinf(inputs['input_ids']).any():\n",
    "    print(\"Input contains NaNs or Infs\")\n",
    "\n",
    "# Use a try-except block to catch and print any errors during generation\n",
    "try:\n",
    "    outputs = model.generate(**inputs, max_new_tokens=50, num_return_sequences=1)  # Reduce max_new_tokens\n",
    "except RuntimeError as e:\n",
    "    print(f\"Error during generation: {e}\")\n",
    "\n",
    "# Inspect the model outputs\n",
    "with torch.no_grad():\n",
    "    generated_ids = model.generate(**inputs, num_return_sequences=1, max_length=512)\n",
    "    #print(generated_ids)\n",
    "\n",
    "# Decode the generated tokens\n",
    "text = tokenizer.decode(generated_ids[0], skip_special_tokens=True)\n",
    "\n",
    "print(text.split(\"assistant\")[1])"
   ]
  },
  {
   "cell_type": "code",
   "execution_count": null,
   "id": "d1ee7d23",
   "metadata": {},
   "outputs": [],
   "source": []
  }
 ],
 "metadata": {
  "anaconda-cloud": {},
  "kernelspec": {
   "display_name": "Python [conda env:.conda-dmenv]",
   "language": "python",
   "name": "conda-env-.conda-dmenv-py"
  },
  "language_info": {
   "codemirror_mode": {
    "name": "ipython",
    "version": 3
   },
   "file_extension": ".py",
   "mimetype": "text/x-python",
   "name": "python",
   "nbconvert_exporter": "python",
   "pygments_lexer": "ipython3",
   "version": "3.11.10"
  }
 },
 "nbformat": 4,
 "nbformat_minor": 5
}
